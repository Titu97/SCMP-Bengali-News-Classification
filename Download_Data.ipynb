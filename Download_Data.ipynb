{
 "cells": [
  {
   "cell_type": "code",
   "execution_count": 24,
   "id": "a5b05a11",
   "metadata": {},
   "outputs": [
    {
     "name": "stderr",
     "output_type": "stream",
     "text": [
      "Downloading...\n",
      "From (original): https://drive.google.com/uc?id=1P_rqOFv5oHe0M6TlHbPgS3MiMgc3sDDM\n",
      "From (redirected): https://drive.google.com/uc?id=1P_rqOFv5oHe0M6TlHbPgS3MiMgc3sDDM&confirm=t&uuid=12d504e6-90cc-4bff-b83c-5e609da14e15\n",
      "To: /home/ss23aga/Desktop/saint-main/Bengali_news_data.zip\n",
      "100%|█████████████████████████████████████████| 265M/265M [00:02<00:00, 108MB/s]\n"
     ]
    },
    {
     "data": {
      "text/plain": [
       "'Bengali_news_data.zip'"
      ]
     },
     "execution_count": 24,
     "metadata": {},
     "output_type": "execute_result"
    }
   ],
   "source": [
    "import gdown\n",
    "import zipfile\n",
    "import os\n",
    "\n",
    "# Google Drive file ID\n",
    "file_id = \"1P_rqOFv5oHe0M6TlHbPgS3MiMgc3sDDM\"\n",
    "\n",
    "# Output file paths\n",
    "zip_file_path = \"Bengali_news_data.zip\"\n",
    "extract_folder = \".\"\n",
    "\n",
    "# Download the zip file\n",
    "url = f\"https://drive.google.com/uc?id={file_id}\"\n",
    "gdown.download(url, zip_file_path, quiet=False)\n",
    " "
   ]
  },
  {
   "cell_type": "code",
   "execution_count": 25,
   "id": "52b33079",
   "metadata": {},
   "outputs": [
    {
     "name": "stdout",
     "output_type": "stream",
     "text": [
      "Archive:  Bengali_news_data.zip\n",
      "replace news/Sports_40k.csv? [y]es, [n]o, [A]ll, [N]one, [r]ename: ^C\n"
     ]
    }
   ],
   "source": [
    "!unzip Bengali_news_data.zip"
   ]
  },
  {
   "cell_type": "code",
   "execution_count": 23,
   "id": "864f0522",
   "metadata": {},
   "outputs": [
    {
     "name": "stdout",
     "output_type": "stream",
     "text": [
      "augmentations.py     LICENSE       pretraining.py         Untitled1.ipynb\r\n",
      "\u001b[0m\u001b[01;34mbestmodels\u001b[0m/          \u001b[01;34mmodels\u001b[0m/       \u001b[01;34m__pycache__\u001b[0m/           Untitled2.ipynb\r\n",
      "data_openml.py       \u001b[01;34mnews\u001b[0m/         README.md              Untitled.ipynb\r\n",
      "downloaded_file.ext  \u001b[01;31mnews.zip\u001b[0m      saint_environment.yml  utils.py\r\n",
      "\u001b[01;31mdownloaded_file.zip\u001b[0m  \u001b[01;34mold_version\u001b[0m/  train.py\r\n",
      "\u001b[01;34mextracted_files\u001b[0m/     \u001b[01;35mpipeline.png\u001b[0m  train_robust.py\r\n"
     ]
    }
   ],
   "source": [
    "!rm -r ne"
   ]
  },
  {
   "cell_type": "code",
   "execution_count": null,
   "id": "13e79d57",
   "metadata": {},
   "outputs": [],
   "source": []
  },
  {
   "cell_type": "code",
   "execution_count": null,
   "id": "7ca6ec30",
   "metadata": {},
   "outputs": [],
   "source": []
  },
  {
   "cell_type": "code",
   "execution_count": null,
   "id": "ba4ed6c1",
   "metadata": {},
   "outputs": [],
   "source": []
  },
  {
   "cell_type": "code",
   "execution_count": null,
   "id": "e12f8cb4",
   "metadata": {},
   "outputs": [],
   "source": []
  },
  {
   "cell_type": "code",
   "execution_count": null,
   "id": "e9596744",
   "metadata": {},
   "outputs": [],
   "source": []
  },
  {
   "cell_type": "code",
   "execution_count": null,
   "id": "2805f6d3",
   "metadata": {},
   "outputs": [],
   "source": []
  },
  {
   "cell_type": "code",
   "execution_count": 14,
   "id": "9d8d3e39",
   "metadata": {},
   "outputs": [
    {
     "data": {
      "text/plain": [
       "'.'"
      ]
     },
     "execution_count": 14,
     "metadata": {},
     "output_type": "execute_result"
    }
   ],
   "source": [
    "extract_folder"
   ]
  },
  {
   "cell_type": "code",
   "execution_count": 16,
   "id": "8ca985ab",
   "metadata": {},
   "outputs": [
    {
     "data": {
      "text/plain": [
       "'/home/ss23aga/Desktop/saint-main/extracted_files'"
      ]
     },
     "execution_count": 16,
     "metadata": {},
     "output_type": "execute_result"
    }
   ],
   "source": [
    "pwd"
   ]
  },
  {
   "cell_type": "code",
   "execution_count": 17,
   "id": "3e038c2f",
   "metadata": {},
   "outputs": [
    {
     "name": "stdout",
     "output_type": "stream",
     "text": [
      "/home/ss23aga/Desktop/saint-main\n"
     ]
    }
   ],
   "source": [
    "cd .."
   ]
  },
  {
   "cell_type": "code",
   "execution_count": 10,
   "id": "1a7697bb",
   "metadata": {},
   "outputs": [
    {
     "name": "stdout",
     "output_type": "stream",
     "text": [
      "/home/ss23aga/Desktop/saint-main/extracted_files\n"
     ]
    }
   ],
   "source": [
    "cd extracted_files"
   ]
  },
  {
   "cell_type": "code",
   "execution_count": 11,
   "id": "63b8789b",
   "metadata": {},
   "outputs": [
    {
     "name": "stdout",
     "output_type": "stream",
     "text": [
      "\u001b[0m\u001b[01;34mnews\u001b[0m/\r\n"
     ]
    }
   ],
   "source": [
    "ls"
   ]
  },
  {
   "cell_type": "code",
   "execution_count": 18,
   "id": "395a7fa2",
   "metadata": {},
   "outputs": [
    {
     "name": "stdout",
     "output_type": "stream",
     "text": [
      "augmentations.py     LICENSE         \u001b[0m\u001b[01;34m__pycache__\u001b[0m/           Untitled2.ipynb\r\n",
      "\u001b[01;34mbestmodels\u001b[0m/          \u001b[01;34mmodels\u001b[0m/         README.md              Untitled.ipynb\r\n",
      "data_openml.py       \u001b[01;31mnews.zip\u001b[0m        saint_environment.yml  utils.py\r\n",
      "downloaded_file.ext  \u001b[01;34mold_version\u001b[0m/    train.py\r\n",
      "\u001b[01;31mdownloaded_file.zip\u001b[0m  \u001b[01;35mpipeline.png\u001b[0m    train_robust.py\r\n",
      "\u001b[01;34mextracted_files\u001b[0m/     pretraining.py  Untitled1.ipynb\r\n"
     ]
    }
   ],
   "source": [
    "ls"
   ]
  },
  {
   "cell_type": "code",
   "execution_count": null,
   "id": "64395173",
   "metadata": {},
   "outputs": [],
   "source": []
  },
  {
   "cell_type": "code",
   "execution_count": null,
   "id": "19a1eeae",
   "metadata": {},
   "outputs": [],
   "source": []
  }
 ],
 "metadata": {
  "kernelspec": {
   "display_name": "Python 3 (ipykernel)",
   "language": "python",
   "name": "python3"
  },
  "language_info": {
   "codemirror_mode": {
    "name": "ipython",
    "version": 3
   },
   "file_extension": ".py",
   "mimetype": "text/x-python",
   "name": "python",
   "nbconvert_exporter": "python",
   "pygments_lexer": "ipython3",
   "version": "3.10.9"
  }
 },
 "nbformat": 4,
 "nbformat_minor": 5
}
