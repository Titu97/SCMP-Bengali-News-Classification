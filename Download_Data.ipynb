{
 "cells": [
  {
   "cell_type": "code",
   "execution_count": null,
   "id": "50bf1d3f",
   "metadata": {},
   "outputs": [],
   "source": [
    "import gdown\n",
    "import os\n",
    "\n",
    "# Google Drive file ID\n",
    "file_id = \"1P_rqOFv5oHe0M6TlHbPgS3MiMgc3sDDM\"\n",
    "\n",
    "# Output file paths\n",
    "zip_file_path = \"Bengali_news_data.zip\"\n",
    "extract_folder = \".\"\n",
    "\n",
    "# Download the zip file\n",
    "url = f\"https://drive.google.com/uc?id={file_id}\"\n",
    "gdown.download(url, zip_file_path, quiet=False)\n",
    " "
   ]
  },
  {
   "cell_type": "code",
   "execution_count": null,
   "id": "677b3f1d",
   "metadata": {},
   "outputs": [],
   "source": [
    "!unzip Bengali_news_data.zip"
   ]
  },
  {
   "cell_type": "code",
   "execution_count": null,
   "id": "e957c22b",
   "metadata": {},
   "outputs": [],
   "source": []
  },
  {
   "cell_type": "code",
   "execution_count": null,
   "id": "45001fcc",
   "metadata": {},
   "outputs": [],
   "source": []
  }
 ],
 "metadata": {
  "kernelspec": {
   "display_name": "Python 3 (ipykernel)",
   "language": "python",
   "name": "python3"
  },
  "language_info": {
   "codemirror_mode": {
    "name": "ipython",
    "version": 3
   },
   "file_extension": ".py",
   "mimetype": "text/x-python",
   "name": "python",
   "nbconvert_exporter": "python",
   "pygments_lexer": "ipython3",
   "version": "3.10.9"
  }
 },
 "nbformat": 4,
 "nbformat_minor": 5
}
